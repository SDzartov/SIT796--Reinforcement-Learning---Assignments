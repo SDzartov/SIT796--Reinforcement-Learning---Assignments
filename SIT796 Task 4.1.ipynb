{
 "cells": [
  {
   "cell_type": "markdown",
   "metadata": {},
   "source": [
    "# Problem: The Gambler's Dilemma"
   ]
  },
  {
   "cell_type": "code",
   "execution_count": 68,
   "metadata": {},
   "outputs": [],
   "source": [
    "import time"
   ]
  },
  {
   "cell_type": "code",
   "execution_count": 62,
   "metadata": {},
   "outputs": [],
   "source": [
    "N = 10 # This is the maximum amount \n",
    "p = 0.4 # This is the odds of winning per bet \n",
    "S = [*range(0,N+1)]\n",
    "A = [*range(0,N+1)]\n",
    "\n",
    "def P(s_next, s, a):\n",
    "    # If a bet wins.\n",
    "    if s + a == s_next and a <= min(s,N-s) and 0 < s < N and a >= 1:\n",
    "        return p\n",
    "    # if a bet loses.\n",
    "    elif s - a == s_next and a <= min(s,N-s) and 0 < s < N and a >= 1:\n",
    "        return (1-p)\n",
    "    else:\n",
    "        return 0\n",
    "    \n",
    "def R(s,a):\n",
    "    # Check if the gambler wins the game.\n",
    "    if s == N: \n",
    "        return 1\n",
    "    else:\n",
    "        return 0"
   ]
  },
  {
   "cell_type": "markdown",
   "metadata": {},
   "source": [
    "---------------------------------------"
   ]
  },
  {
   "cell_type": "markdown",
   "metadata": {},
   "source": [
    "## Value Iteration "
   ]
  },
  {
   "cell_type": "code",
   "execution_count": 31,
   "metadata": {},
   "outputs": [],
   "source": [
    "def value_it(S,A,P,R):\n",
    "    \"\"\"\n",
    "    :parameter list is s: set of states\n",
    "    :parameter list is a: set of actions\n",
    "    :parameter function is p: transition function\n",
    "    :parameter function is r: reward function\n",
    "    \"\"\"\n",
    "    V = {s: 0 for s in S}\n",
    "    \n",
    "    optimal_policy = {s: 0 for s in S}\n",
    "    \n",
    "    while True:\n",
    "        oldV=V.copy()\n",
    "        \n",
    "        for s in S:\n",
    "            Q = {}\n",
    "            for a in A:\n",
    "                Q[a] = R(s,a) + sum(P(s_next,s,a) * oldV[s_next] \n",
    "                                    for s_next in S)\n",
    "        \n",
    "            V[s] = max(Q.values())\n",
    "            \n",
    "            optimal_policy[s] = max(Q,key=Q.get)\n",
    "        \n",
    "        if all(oldV[s] == V[s] for s in S):\n",
    "            break\n",
    "    \n",
    "    return V, optimal_policy"
   ]
  },
  {
   "cell_type": "code",
   "execution_count": 41,
   "metadata": {},
   "outputs": [],
   "source": [
    "#Value Iteration on the Gambler's Dilemma\n",
    "VI, VI_optimal_policy = value_it(S, A, P, R)"
   ]
  },
  {
   "cell_type": "code",
   "execution_count": 40,
   "metadata": {},
   "outputs": [
    {
     "name": "stdout",
     "output_type": "stream",
     "text": [
      "{0: 0.0, 1: 0.04346349745331071, 2: 0.10865874363327677, 3: 0.18607809847198645, 4: 0.2716468590831919, 5: 0.4, 6: 0.4651952461799661, 7: 0.5629881154499152, 8: 0.6791171477079796, 9: 0.8074702886247878, 10: 1.0}\n"
     ]
    }
   ],
   "source": [
    "print(VI)"
   ]
  },
  {
   "cell_type": "code",
   "execution_count": 42,
   "metadata": {},
   "outputs": [
    {
     "name": "stdout",
     "output_type": "stream",
     "text": [
      "{0: 0, 1: 1, 2: 2, 3: 2, 4: 1, 5: 5, 6: 1, 7: 3, 8: 2, 9: 1, 10: 0}\n"
     ]
    }
   ],
   "source": [
    "print(VI_optimal_policy)"
   ]
  },
  {
   "cell_type": "markdown",
   "metadata": {},
   "source": [
    "-----------------------------------------"
   ]
  },
  {
   "cell_type": "markdown",
   "metadata": {},
   "source": [
    "## Policy Iteration "
   ]
  },
  {
   "cell_type": "code",
   "execution_count": 63,
   "metadata": {},
   "outputs": [],
   "source": [
    "def policy_it(S,A,P,R):\n",
    "    \"\"\"\n",
    "    :parameter list is s: set of states\n",
    "    :parameter list is a: set of actions\n",
    "    :parameter function is p: transition function\n",
    "    :parameter function is r: reward function\n",
    "    \"\"\"\n",
    "    policy = {s: A[0] for s in S}\n",
    "    \n",
    "    while True:\n",
    "        old_policy = policy.copy()\n",
    "        \n",
    "        V = policy_eval(policy, S)\n",
    "        \n",
    "        policy = policy_improv(V, S, A)\n",
    "        \n",
    "        if all(old_policy[s]==policy[s] for s in S):\n",
    "            break\n",
    "    return policy"
   ]
  },
  {
   "cell_type": "code",
   "execution_count": 64,
   "metadata": {},
   "outputs": [],
   "source": [
    "def policy_eval(policy, S):\n",
    "    V = {s: 0 for s in S}\n",
    "    while True:\n",
    "            oldV = V.copy()\n",
    "            for s in S:\n",
    "                a = policy[s]\n",
    "                V[s] = R(s,a) + sum(P(s_next,s,a) * oldV[s_next]\n",
    "                                   for s_next in S)\n",
    "            \n",
    "            if all(oldV[s] == V[s] for s in S):\n",
    "                break\n",
    "                \n",
    "    return V"
   ]
  },
  {
   "cell_type": "code",
   "execution_count": 65,
   "metadata": {},
   "outputs": [],
   "source": [
    "def policy_improv(V, S, A):\n",
    "    policy = {s: A[0] for s in S}\n",
    "\n",
    "    for s in S:\n",
    "        Q = {}\n",
    "        for a in A:\n",
    "            Q[a] = R(s,a) + sum(P(s_next,s,a) * V[s_next]\n",
    "                               for s_next in S)\n",
    "        \n",
    "        policy[s] = max(Q, key=Q.get)\n",
    "                \n",
    "    return policy"
   ]
  },
  {
   "cell_type": "code",
   "execution_count": 66,
   "metadata": {},
   "outputs": [],
   "source": [
    "#Policy Iteration on the Gambler's Dilemma\n",
    "PI_optimal_policy = policy_it(S,A,P,R)"
   ]
  },
  {
   "cell_type": "code",
   "execution_count": 67,
   "metadata": {},
   "outputs": [
    {
     "name": "stdout",
     "output_type": "stream",
     "text": [
      "{0: 0, 1: 1, 2: 2, 3: 2, 4: 1, 5: 5, 6: 1, 7: 3, 8: 2, 9: 1, 10: 0}\n"
     ]
    }
   ],
   "source": [
    "print(PI_optimal_policy)"
   ]
  },
  {
   "cell_type": "code",
   "execution_count": null,
   "metadata": {},
   "outputs": [],
   "source": []
  }
 ],
 "metadata": {
  "kernelspec": {
   "display_name": "Python 3",
   "language": "python",
   "name": "python3"
  },
  "language_info": {
   "codemirror_mode": {
    "name": "ipython",
    "version": 3
   },
   "file_extension": ".py",
   "mimetype": "text/x-python",
   "name": "python",
   "nbconvert_exporter": "python",
   "pygments_lexer": "ipython3",
   "version": "3.7.3"
  }
 },
 "nbformat": 4,
 "nbformat_minor": 2
}
