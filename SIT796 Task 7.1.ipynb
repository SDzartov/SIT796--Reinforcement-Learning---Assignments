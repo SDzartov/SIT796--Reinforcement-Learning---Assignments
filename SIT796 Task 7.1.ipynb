{
 "cells": [
  {
   "cell_type": "code",
   "execution_count": 26,
   "metadata": {
    "scrolled": true
   },
   "outputs": [],
   "source": [
    "import gym\n",
    "import numpy as np\n",
    "import matplotlib.pyplot as plt\n",
    "import pandas as pd\n",
    "import math\n",
    "import re"
   ]
  },
  {
   "cell_type": "markdown",
   "metadata": {},
   "source": [
    "-------------------------------"
   ]
  },
  {
   "cell_type": "code",
   "execution_count": 3,
   "metadata": {},
   "outputs": [],
   "source": [
    "env = gym.make(\"Pendulum-v1\")\n",
    "env._max_episode_steps = 100"
   ]
  },
  {
   "cell_type": "code",
   "execution_count": 4,
   "metadata": {},
   "outputs": [],
   "source": [
    "theta_space = np.linspace(-1,1,10)\n",
    "dot_space = np.linspace(-8,8,10)\n",
    "act_space = np.linspace(-2,2,10)"
   ]
  },
  {
   "cell_type": "code",
   "execution_count": 5,
   "metadata": {},
   "outputs": [],
   "source": [
    "def get_state(observation):\n",
    "    cos, sin, dot = observation\n",
    "    cth = int(np.digitize(cos,theta_space))\n",
    "    sth = int(np.digitize(sin,theta_space))\n",
    "    dth = int(np.digitize(dot,dot_space))\n",
    "    return (cth + sth + dth)"
   ]
  },
  {
   "cell_type": "code",
   "execution_count": 6,
   "metadata": {},
   "outputs": [],
   "source": [
    "def get_act(action):\n",
    "    act = action\n",
    "    ath = (np.digitize(act,act_space))\n",
    "    ath = int(ath)\n",
    "    return ath"
   ]
  },
  {
   "cell_type": "code",
   "execution_count": 55,
   "metadata": {},
   "outputs": [],
   "source": [
    "def get_stato(obs_):\n",
    "    cos = a\n",
    "    sin = b\n",
    "    dot = c\n",
    "    cth = int(np.digitize(cos,theta_space))\n",
    "    sth = int(np.digitize(sin,theta_space))\n",
    "    dth = int(np.digitize(dot,dot_space))\n",
    "    return (cth + sth + dth/3)"
   ]
  },
  {
   "cell_type": "code",
   "execution_count": 8,
   "metadata": {},
   "outputs": [],
   "source": [
    "rewa = []\n",
    "pstate = []\n",
    "pactions = []"
   ]
  },
  {
   "cell_type": "code",
   "execution_count": 88,
   "metadata": {},
   "outputs": [],
   "source": [
    "obs = env.reset()\n",
    "for i in range(100):\n",
    "    action = env.action_space.sample()\n",
    "    staterun = get_state(obs)\n",
    "    pstate.append(staterun)\n",
    "    actrun = get_act(action)\n",
    "    pactions.append(actrun)\n",
    "    obs, reward, done, info = env.step(action)"
   ]
  },
  {
   "cell_type": "code",
   "execution_count": 96,
   "metadata": {},
   "outputs": [
    {
     "name": "stdout",
     "output_type": "stream",
     "text": [
      "[5, 6, 7, 8, 9, 10, 11, 12, 13, 14, 15, 16, 17, 18, 19, 20, 21, 22, 0]\n"
     ]
    }
   ],
   "source": [
    "pstate = list(dict.fromkeys(pstate))\n",
    "pstate.sort()\n",
    "pstate.append(0)\n",
    "print(pstate)"
   ]
  },
  {
   "cell_type": "code",
   "execution_count": 90,
   "metadata": {},
   "outputs": [
    {
     "name": "stdout",
     "output_type": "stream",
     "text": [
      "[0, 1, 2, 3, 4, 5, 6, 7, 8, 9]\n"
     ]
    }
   ],
   "source": [
    "pactions = list(dict.fromkeys(pactions))\n",
    "pactions.sort()\n",
    "#pactions.append(0)\n",
    "print(pactions)"
   ]
  },
  {
   "cell_type": "code",
   "execution_count": 91,
   "metadata": {},
   "outputs": [],
   "source": [
    "N_STATES = len(pstate)\n",
    "N_ACTIONS = len(pactions)"
   ]
  },
  {
   "cell_type": "markdown",
   "metadata": {},
   "source": [
    "------------------------------------"
   ]
  },
  {
   "cell_type": "code",
   "execution_count": 61,
   "metadata": {},
   "outputs": [],
   "source": [
    "def max_action(Q, state, action=pactions):\n",
    "    values = np.array([Q[np.round(state),a] for a in action])\n",
    "    action = np.argmax(values)\n",
    "    return action"
   ]
  },
  {
   "cell_type": "code",
   "execution_count": 2,
   "metadata": {},
   "outputs": [],
   "source": [
    "n_games = 100\n",
    "alpha = 0.1\n",
    "gamma = 0.99\n",
    "eps = 0.1\n",
    "score = 0"
   ]
  },
  {
   "cell_type": "code",
   "execution_count": 97,
   "metadata": {},
   "outputs": [],
   "source": [
    "action_space = pactions\n",
    "states = []\n",
    "for cth in range(11):\n",
    "    for sth in range(11): \n",
    "        for dth in range(11):\n",
    "            states.append((cth+sth+dth))"
   ]
  },
  {
   "cell_type": "code",
   "execution_count": 98,
   "metadata": {},
   "outputs": [],
   "source": [
    "Q = {}\n",
    "for state in states:\n",
    "    for action in action_space:\n",
    "        Q[state,action] = 0"
   ]
  },
  {
   "cell_type": "code",
   "execution_count": 129,
   "metadata": {},
   "outputs": [
    {
     "data": {
      "text/plain": [
       "{(0, 0): 0,\n",
       " (0, 1): 0,\n",
       " (0, 2): 0,\n",
       " (0, 3): 0,\n",
       " (0, 4): 0,\n",
       " (0, 5): 0,\n",
       " (0, 6): 0,\n",
       " (0, 7): 0,\n",
       " (0, 8): 0,\n",
       " (0, 9): 0,\n",
       " (1, 0): 0,\n",
       " (1, 1): 0,\n",
       " (1, 2): 0,\n",
       " (1, 3): 0,\n",
       " (1, 4): 0,\n",
       " (1, 5): 0,\n",
       " (1, 6): 0,\n",
       " (1, 7): 0,\n",
       " (1, 8): 0,\n",
       " (1, 9): 0,\n",
       " (2, 0): 0,\n",
       " (2, 1): 0,\n",
       " (2, 2): 0,\n",
       " (2, 3): 0,\n",
       " (2, 4): 0,\n",
       " (2, 5): 0,\n",
       " (2, 6): 0,\n",
       " (2, 7): 0,\n",
       " (2, 8): 0,\n",
       " (2, 9): 0,\n",
       " (3, 0): 0,\n",
       " (3, 1): 0,\n",
       " (3, 2): 0,\n",
       " (3, 3): 0,\n",
       " (3, 4): 0,\n",
       " (3, 5): 0,\n",
       " (3, 6): 0,\n",
       " (3, 7): 0,\n",
       " (3, 8): 0,\n",
       " (3, 9): 0,\n",
       " (4, 0): 0,\n",
       " (4, 1): 0,\n",
       " (4, 2): 0,\n",
       " (4, 3): 0,\n",
       " (4, 4): 0,\n",
       " (4, 5): 0,\n",
       " (4, 6): 0,\n",
       " (4, 7): 0,\n",
       " (4, 8): 0,\n",
       " (4, 9): 0,\n",
       " (5, 0): 0,\n",
       " (5, 1): 0,\n",
       " (5, 2): 0,\n",
       " (5, 3): 0,\n",
       " (5, 4): 0,\n",
       " (5, 5): 0,\n",
       " (5, 6): 0,\n",
       " (5, 7): 0,\n",
       " (5, 8): 0,\n",
       " (5, 9): 0,\n",
       " (6, 0): 0,\n",
       " (6, 1): 0,\n",
       " (6, 2): 0,\n",
       " (6, 3): 0,\n",
       " (6, 4): 0,\n",
       " (6, 5): 0,\n",
       " (6, 6): 0,\n",
       " (6, 7): 0,\n",
       " (6, 8): 0,\n",
       " (6, 9): 0,\n",
       " (7, 0): 0,\n",
       " (7, 1): 0,\n",
       " (7, 2): 0,\n",
       " (7, 3): 0,\n",
       " (7, 4): 0,\n",
       " (7, 5): 0,\n",
       " (7, 6): 0,\n",
       " (7, 7): 0,\n",
       " (7, 8): 0,\n",
       " (7, 9): 0,\n",
       " (8, 0): 0,\n",
       " (8, 1): 0,\n",
       " (8, 2): 0,\n",
       " (8, 3): 0,\n",
       " (8, 4): 0,\n",
       " (8, 5): 0,\n",
       " (8, 6): 0,\n",
       " (8, 7): 0,\n",
       " (8, 8): 0,\n",
       " (8, 9): 0,\n",
       " (9, 0): 0,\n",
       " (9, 1): 0,\n",
       " (9, 2): 0,\n",
       " (9, 3): 0,\n",
       " (9, 4): 0,\n",
       " (9, 5): 0,\n",
       " (9, 6): 0,\n",
       " (9, 7): 0,\n",
       " (9, 8): 0,\n",
       " (9, 9): 0,\n",
       " (10, 0): -9.076038315820577,\n",
       " (10, 1): 0,\n",
       " (10, 2): 0,\n",
       " (10, 3): 0,\n",
       " (10, 4): 0,\n",
       " (10, 5): 0,\n",
       " (10, 6): 0,\n",
       " (10, 7): 0,\n",
       " (10, 8): 0,\n",
       " (10, 9): 0,\n",
       " (11, 0): -7.070658742198713,\n",
       " (11, 1): 0,\n",
       " (11, 2): 0,\n",
       " (11, 3): 0,\n",
       " (11, 4): 0,\n",
       " (11, 5): 0,\n",
       " (11, 6): 0,\n",
       " (11, 7): 0,\n",
       " (11, 8): 0,\n",
       " (11, 9): 0,\n",
       " (12, 0): 0,\n",
       " (12, 1): 0,\n",
       " (12, 2): 0,\n",
       " (12, 3): 0,\n",
       " (12, 4): 0,\n",
       " (12, 5): 0,\n",
       " (12, 6): 0,\n",
       " (12, 7): 0,\n",
       " (12, 8): 0,\n",
       " (12, 9): 0,\n",
       " (13, 0): 0,\n",
       " (13, 1): 0,\n",
       " (13, 2): 0,\n",
       " (13, 3): 0,\n",
       " (13, 4): 0,\n",
       " (13, 5): 0,\n",
       " (13, 6): 0,\n",
       " (13, 7): 0,\n",
       " (13, 8): 0,\n",
       " (13, 9): 0,\n",
       " (14, 0): 0,\n",
       " (14, 1): 0,\n",
       " (14, 2): 0,\n",
       " (14, 3): 0,\n",
       " (14, 4): 0,\n",
       " (14, 5): 0,\n",
       " (14, 6): 0,\n",
       " (14, 7): 0,\n",
       " (14, 8): 0,\n",
       " (14, 9): 0,\n",
       " (15, 0): -5.400349722098786,\n",
       " (15, 1): 0,\n",
       " (15, 2): 0,\n",
       " (15, 3): 0,\n",
       " (15, 4): 0,\n",
       " (15, 5): 0,\n",
       " (15, 6): 0,\n",
       " (15, 7): 0,\n",
       " (15, 8): 0,\n",
       " (15, 9): 0,\n",
       " (16, 0): 0,\n",
       " (16, 1): 0,\n",
       " (16, 2): 0,\n",
       " (16, 3): 0,\n",
       " (16, 4): 0,\n",
       " (16, 5): 0,\n",
       " (16, 6): 0,\n",
       " (16, 7): 0,\n",
       " (16, 8): 0,\n",
       " (16, 9): 0,\n",
       " (17, 0): -3.286918060062384,\n",
       " (17, 1): 0,\n",
       " (17, 2): 0,\n",
       " (17, 3): 0,\n",
       " (17, 4): 0,\n",
       " (17, 5): 0,\n",
       " (17, 6): 0,\n",
       " (17, 7): 0,\n",
       " (17, 8): 0,\n",
       " (17, 9): 0,\n",
       " (18, 0): -0.012685020715506947,\n",
       " (18, 1): 0,\n",
       " (18, 2): 0,\n",
       " (18, 3): 0,\n",
       " (18, 4): 0,\n",
       " (18, 5): 0,\n",
       " (18, 6): 0,\n",
       " (18, 7): 0,\n",
       " (18, 8): 0,\n",
       " (18, 9): 0,\n",
       " (19, 0): -0.8138664386819041,\n",
       " (19, 1): 0,\n",
       " (19, 2): 0,\n",
       " (19, 3): 0,\n",
       " (19, 4): 0,\n",
       " (19, 5): 0,\n",
       " (19, 6): 0,\n",
       " (19, 7): 0,\n",
       " (19, 8): 0,\n",
       " (19, 9): 0,\n",
       " (20, 0): -4.48673493704827,\n",
       " (20, 1): 0,\n",
       " (20, 2): 0,\n",
       " (20, 3): 0,\n",
       " (20, 4): 0,\n",
       " (20, 5): 0,\n",
       " (20, 6): 0,\n",
       " (20, 7): 0,\n",
       " (20, 8): 0,\n",
       " (20, 9): 0,\n",
       " (21, 0): -3.6753199463529906,\n",
       " (21, 1): 0,\n",
       " (21, 2): 0,\n",
       " (21, 3): 0,\n",
       " (21, 4): 0,\n",
       " (21, 5): 0,\n",
       " (21, 6): 0,\n",
       " (21, 7): 0,\n",
       " (21, 8): 0,\n",
       " (21, 9): 0,\n",
       " (22, 0): -0.7952554448355962,\n",
       " (22, 1): 0,\n",
       " (22, 2): 0,\n",
       " (22, 3): 0,\n",
       " (22, 4): 0,\n",
       " (22, 5): 0,\n",
       " (22, 6): 0,\n",
       " (22, 7): 0,\n",
       " (22, 8): 0,\n",
       " (22, 9): 0,\n",
       " (23, 0): 0,\n",
       " (23, 1): 0,\n",
       " (23, 2): 0,\n",
       " (23, 3): 0,\n",
       " (23, 4): 0,\n",
       " (23, 5): 0,\n",
       " (23, 6): 0,\n",
       " (23, 7): 0,\n",
       " (23, 8): 0,\n",
       " (23, 9): 0,\n",
       " (24, 0): 0,\n",
       " (24, 1): 0,\n",
       " (24, 2): 0,\n",
       " (24, 3): 0,\n",
       " (24, 4): 0,\n",
       " (24, 5): 0,\n",
       " (24, 6): 0,\n",
       " (24, 7): 0,\n",
       " (24, 8): 0,\n",
       " (24, 9): 0,\n",
       " (25, 0): 0,\n",
       " (25, 1): 0,\n",
       " (25, 2): 0,\n",
       " (25, 3): 0,\n",
       " (25, 4): 0,\n",
       " (25, 5): 0,\n",
       " (25, 6): 0,\n",
       " (25, 7): 0,\n",
       " (25, 8): 0,\n",
       " (25, 9): 0,\n",
       " (26, 0): 0,\n",
       " (26, 1): 0,\n",
       " (26, 2): 0,\n",
       " (26, 3): 0,\n",
       " (26, 4): 0,\n",
       " (26, 5): 0,\n",
       " (26, 6): 0,\n",
       " (26, 7): 0,\n",
       " (26, 8): 0,\n",
       " (26, 9): 0,\n",
       " (27, 0): 0,\n",
       " (27, 1): 0,\n",
       " (27, 2): 0,\n",
       " (27, 3): 0,\n",
       " (27, 4): 0,\n",
       " (27, 5): 0,\n",
       " (27, 6): 0,\n",
       " (27, 7): 0,\n",
       " (27, 8): 0,\n",
       " (27, 9): 0,\n",
       " (28, 0): 0,\n",
       " (28, 1): 0,\n",
       " (28, 2): 0,\n",
       " (28, 3): 0,\n",
       " (28, 4): 0,\n",
       " (28, 5): 0,\n",
       " (28, 6): 0,\n",
       " (28, 7): 0,\n",
       " (28, 8): 0,\n",
       " (28, 9): 0,\n",
       " (29, 0): 0,\n",
       " (29, 1): 0,\n",
       " (29, 2): 0,\n",
       " (29, 3): 0,\n",
       " (29, 4): 0,\n",
       " (29, 5): 0,\n",
       " (29, 6): 0,\n",
       " (29, 7): 0,\n",
       " (29, 8): 0,\n",
       " (29, 9): 0,\n",
       " (30, 0): 0,\n",
       " (30, 1): 0,\n",
       " (30, 2): 0,\n",
       " (30, 3): 0,\n",
       " (30, 4): 0,\n",
       " (30, 5): 0,\n",
       " (30, 6): 0,\n",
       " (30, 7): 0,\n",
       " (30, 8): 0,\n",
       " (30, 9): 0}"
      ]
     },
     "execution_count": 129,
     "metadata": {},
     "output_type": "execute_result"
    }
   ],
   "source": [
    "Q"
   ]
  },
  {
   "cell_type": "markdown",
   "metadata": {},
   "source": [
    "--------------------"
   ]
  },
  {
   "cell_type": "code",
   "execution_count": 154,
   "metadata": {},
   "outputs": [],
   "source": [
    "def sarsa(obs_,state,action):\n",
    "        score = 0\n",
    "        state_ = get_stato(obs_)\n",
    "        state_ = np.round(state_)\n",
    "        action_ = max_action(Q, state_) if np.random.random() > eps else env.action_space.sample()\n",
    "        action_ = np.round(action_)\n",
    "        action_ = action_.astype(int)\n",
    "        score += reward\n",
    "        Q[state, action] = Q[np.round(state),action.astype(int)] + alpha*(reward+gamma*Q[state_,action_] - Q[np.round(state),action])\n",
    "        state = state_\n",
    "        action = action_"
   ]
  },
  {
   "cell_type": "code",
   "execution_count": 165,
   "metadata": {},
   "outputs": [],
   "source": [
    "def sarsalambda(obs_,state,action):\n",
    "        score = 0\n",
    "        lam = 0.8\n",
    "        state_ = get_stato(obs_)\n",
    "        state_ = np.round(state_)\n",
    "        action_ = max_action(Q, state_) if np.random.random() > eps else env.action_space.sample()\n",
    "        action_ = np.round(action_)\n",
    "        action_ = action_.astype(int)\n",
    "        score += reward\n",
    "        Q[state, action] = Q[np.round(state),action.astype(int)] + alpha*(reward+gamma*lam*Q[state_,action_] - Q[np.round(state),action])\n",
    "        state = state_\n",
    "        action = action_"
   ]
  },
  {
   "cell_type": "markdown",
   "metadata": {},
   "source": [
    "------------------------------"
   ]
  },
  {
   "cell_type": "code",
   "execution_count": 158,
   "metadata": {},
   "outputs": [
    {
     "data": {
      "image/png": "[encoded data removed]",
      "text/plain": [
       "<Figure size 432x288 with 1 Axes>"
      ]
     },
     "metadata": {
      "needs_background": "light"
     },
     "output_type": "display_data"
    }
   ],
   "source": [
    "atotal_reward = []\n",
    "obs = env.reset()\n",
    "state = get_state(obs)\n",
    "state = np.round_(state,decimals=0)\n",
    "action = max_action(Q, state) if np.random.random() > eps else env.action_space.sample()\n",
    "for i in range(n_games):\n",
    "    obs_,reward, done, info = env.step([action])\n",
    "    atotal_reward.append(reward)\n",
    "    a, b, c = obs_\n",
    "    sarsa(obs_,state,action)\n",
    "eps = eps - 2 / n_games if eps > 0.01 else 0.01\n",
    "plt.plot(atotal_reward)\n",
    "plt.show()"
   ]
  },
  {
   "cell_type": "code",
   "execution_count": 178,
   "metadata": {},
   "outputs": [
    {
     "data": {
      "image/png": "[encoded data removed]",
      "text/plain": [
       "<Figure size 432x288 with 1 Axes>"
      ]
     },
     "metadata": {
      "needs_background": "light"
     },
     "output_type": "display_data"
    }
   ],
   "source": [
    "btotal_reward = []\n",
    "obs = env.reset()\n",
    "state = get_state(obs)\n",
    "state = np.round_(state,decimals=0)\n",
    "action = max_action(Q, state) if np.random.random() > eps else env.action_space.sample()\n",
    "for i in range(n_games):\n",
    "    obs_,reward, done, info = env.step([action])\n",
    "    btotal_reward.append(reward)\n",
    "    a, b, c = obs_\n",
    "    sarsalambda(obs_,state,action)\n",
    "eps = eps - 2 / n_games if eps > 0.01 else 0.01\n",
    "plt.plot(btotal_reward)\n",
    "plt.show()"
   ]
  },
  {
   "cell_type": "code",
   "execution_count": null,
   "metadata": {},
   "outputs": [],
   "source": []
  }
 ],
 "metadata": {
  "kernelspec": {
   "display_name": "Python 3 (ipykernel)",
   "language": "python",
   "name": "python3"
  },
  "language_info": {
   "codemirror_mode": {
    "name": "ipython",
    "version": 3
   },
   "file_extension": ".py",
   "mimetype": "text/x-python",
   "name": "python",
   "nbconvert_exporter": "python",
   "pygments_lexer": "ipython3",
   "version": "3.7.3"
  }
 },
 "nbformat": 4,
 "nbformat_minor": 2
}
