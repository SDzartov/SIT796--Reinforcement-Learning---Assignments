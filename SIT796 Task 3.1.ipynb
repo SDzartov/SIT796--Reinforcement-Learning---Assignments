{
 "cells": [
  {
   "cell_type": "code",
   "execution_count": 58,
   "metadata": {},
   "outputs": [],
   "source": [
    "import gym\n",
    "import random\n",
    "import numpy as np\n",
    "import matplotlib.pyplot as plt"
   ]
  },
  {
   "cell_type": "code",
   "execution_count": 59,
   "metadata": {},
   "outputs": [],
   "source": [
    "env = gym.make(\"Pendulum-v1\")"
   ]
  },
  {
   "cell_type": "code",
   "execution_count": 60,
   "metadata": {},
   "outputs": [
    {
     "name": "stdout",
     "output_type": "stream",
     "text": [
      "Box(-2.0, 2.0, (1,), float32)\n",
      "[2.]\n",
      "[-2.]\n"
     ]
    }
   ],
   "source": [
    "print(env.env.action_space)\n",
    "print(env.env.action_space.high)\n",
    "print(env.env.action_space.low)"
   ]
  },
  {
   "cell_type": "code",
   "execution_count": 61,
   "metadata": {},
   "outputs": [
    {
     "name": "stdout",
     "output_type": "stream",
     "text": [
      "Box([-1. -1. -8.], [1. 1. 8.], (3,), float32)\n",
      "[1. 1. 8.]\n",
      "[-1. -1. -8.]\n"
     ]
    }
   ],
   "source": [
    "print(env.env.observation_space)\n",
    "print(env.env.observation_space.high)\n",
    "print(env.env.observation_space.low)"
   ]
  },
  {
   "cell_type": "code",
   "execution_count": 62,
   "metadata": {},
   "outputs": [],
   "source": [
    "theta_space = np.linspace(-1,1,10)\n",
    "dot_space = np.linspace(-8,8,10)\n",
    "act_space = np.linspace(-2,2,10)"
   ]
  },
  {
   "cell_type": "code",
   "execution_count": 63,
   "metadata": {},
   "outputs": [],
   "source": [
    "def get_state(observation):\n",
    "    cos, sin, dot = observation\n",
    "    cth = int(np.digitize(cos,theta_space))\n",
    "    sth = int(np.digitize(sin,theta_space))\n",
    "    dth = int(np.digitize(dot,dot_space))\n",
    "    return (cth + sth + dth)"
   ]
  },
  {
   "cell_type": "code",
   "execution_count": 64,
   "metadata": {},
   "outputs": [],
   "source": [
    "def get_act(action):\n",
    "    act = action\n",
    "    ath = (np.digitize(act,act_space))\n",
    "    ath = int(ath)\n",
    "    return ath"
   ]
  },
  {
   "cell_type": "code",
   "execution_count": 65,
   "metadata": {},
   "outputs": [],
   "source": [
    "rewa = []\n",
    "pstate = []\n",
    "pactions = []"
   ]
  },
  {
   "cell_type": "code",
   "execution_count": 66,
   "metadata": {},
   "outputs": [],
   "source": [
    "obs = env.reset()\n",
    "for i in range(1000):\n",
    "    action = env.action_space.sample()\n",
    "    staterun = get_state(obs)\n",
    "    pstate.append(staterun)\n",
    "    actrun = get_act(action)\n",
    "    pactions.append(actrun)\n",
    "    rewa.append(reward)\n",
    "    obs, reward, done, info = env.step(action)"
   ]
  },
  {
   "cell_type": "code",
   "execution_count": 67,
   "metadata": {},
   "outputs": [
    {
     "name": "stdout",
     "output_type": "stream",
     "text": [
      "-6.522399940023102\n"
     ]
    }
   ],
   "source": [
    "avgrewa=(sum(rewa)/len(rewa))\n",
    "print(avgrewa)"
   ]
  },
  {
   "cell_type": "code",
   "execution_count": 68,
   "metadata": {},
   "outputs": [
    {
     "name": "stdout",
     "output_type": "stream",
     "text": [
      "[4, 5, 6, 7, 8, 9, 10, 11, 12, 13, 14, 15, 16, 17, 18, 19, 20, 21, 22, 23, 24]\n"
     ]
    }
   ],
   "source": [
    "pstate = list(dict.fromkeys(pstate))\n",
    "pstate.sort()\n",
    "print(pstate)"
   ]
  },
  {
   "cell_type": "code",
   "execution_count": 69,
   "metadata": {},
   "outputs": [
    {
     "name": "stdout",
     "output_type": "stream",
     "text": [
      "[1, 2, 3, 4, 5, 6, 7, 8, 9]\n"
     ]
    }
   ],
   "source": [
    "pactions = list(dict.fromkeys(pactions))\n",
    "pactions.sort()\n",
    "print(pactions)"
   ]
  },
  {
   "cell_type": "code",
   "execution_count": 82,
   "metadata": {},
   "outputs": [],
   "source": [
    "#Variables\n",
    "states = pstate\n",
    "actions = pactions\n",
    "N_STATES = len(states)\n",
    "N_ACTIONS = len(actions)\n",
    "R = np.zeros((N_STATES, N_ACTIONS, N_STATES))\n",
    "P = np.zeros((N_STATES, N_ACTIONS, N_STATES))\n",
    "P.fill(0.001)\n",
    "R.fill(avgrewa)\n",
    "# The lowest reward is -(pi^2 + 0.1*8^2 + 0.001*2^2) = -16.2736044, and the highest reward is 0.\n",
    "gamma = 0.1"
   ]
  },
  {
   "cell_type": "code",
   "execution_count": 83,
   "metadata": {},
   "outputs": [],
   "source": [
    "for i in range(10000):\n",
    "        x = random.uniform(-16.2736044,-0.99999)\n",
    "        a = random.randint(1,20)\n",
    "        b = random.randint(1,8)\n",
    "        c = random.randint(1,20)\n",
    "        R[a,b,c] = x"
   ]
  },
  {
   "cell_type": "code",
   "execution_count": 84,
   "metadata": {},
   "outputs": [
    {
     "data": {
      "text/plain": [
       "array([[[ -6.52239994,  -6.52239994,  -6.52239994, ...,  -6.52239994,\n",
       "          -6.52239994,  -6.52239994],\n",
       "        [ -6.52239994,  -6.52239994,  -6.52239994, ...,  -6.52239994,\n",
       "          -6.52239994,  -6.52239994],\n",
       "        [ -6.52239994,  -6.52239994,  -6.52239994, ...,  -6.52239994,\n",
       "          -6.52239994,  -6.52239994],\n",
       "        ...,\n",
       "        [ -6.52239994,  -6.52239994,  -6.52239994, ...,  -6.52239994,\n",
       "          -6.52239994,  -6.52239994],\n",
       "        [ -6.52239994,  -6.52239994,  -6.52239994, ...,  -6.52239994,\n",
       "          -6.52239994,  -6.52239994],\n",
       "        [ -6.52239994,  -6.52239994,  -6.52239994, ...,  -6.52239994,\n",
       "          -6.52239994,  -6.52239994]],\n",
       "\n",
       "       [[ -6.52239994,  -6.52239994,  -6.52239994, ...,  -6.52239994,\n",
       "          -6.52239994,  -6.52239994],\n",
       "        [ -6.52239994, -11.28622795, -11.03511237, ...,  -4.5133438 ,\n",
       "         -15.48646671,  -6.52239994],\n",
       "        [ -6.52239994,  -5.25981845, -11.44216577, ..., -15.69996447,\n",
       "          -3.65657484,  -6.13364582],\n",
       "        ...,\n",
       "        [ -6.52239994, -13.27058237, -14.38959106, ...,  -9.9313323 ,\n",
       "         -15.50653878,  -4.49860794],\n",
       "        [ -6.52239994,  -2.84811526,  -2.23427453, ...,  -5.10421567,\n",
       "          -7.36053235,  -8.35685882],\n",
       "        [ -6.52239994,  -5.34804321, -15.23159974, ...,  -3.49913048,\n",
       "         -10.04344775,  -7.47440029]],\n",
       "\n",
       "       [[ -6.52239994,  -6.52239994,  -6.52239994, ...,  -6.52239994,\n",
       "          -6.52239994,  -6.52239994],\n",
       "        [ -6.52239994,  -8.37929244, -12.20030264, ..., -11.96496533,\n",
       "          -7.50413407,  -6.16651743],\n",
       "        [ -6.52239994, -11.47452924, -15.3507205 , ...,  -7.89550497,\n",
       "          -2.71869645, -13.18816052],\n",
       "        ...,\n",
       "        [ -6.52239994,  -8.86707927, -11.30159006, ...,  -6.52239994,\n",
       "         -10.56848361,  -6.52239994],\n",
       "        [ -6.52239994, -14.36006511,  -2.92985315, ...,  -8.49532409,\n",
       "          -3.78867   ,  -4.74652024],\n",
       "        [ -6.52239994,  -4.48705016,  -3.08236797, ...,  -1.74792822,\n",
       "          -3.70572976, -16.21379806]],\n",
       "\n",
       "       ...,\n",
       "\n",
       "       [[ -6.52239994,  -6.52239994,  -6.52239994, ...,  -6.52239994,\n",
       "          -6.52239994,  -6.52239994],\n",
       "        [ -6.52239994,  -6.71148582, -12.3156105 , ...,  -8.9463733 ,\n",
       "          -7.66728538,  -6.52239994],\n",
       "        [ -6.52239994, -13.13273652,  -6.51735182, ..., -10.98925727,\n",
       "          -4.49304244, -13.0340085 ],\n",
       "        ...,\n",
       "        [ -6.52239994,  -6.52239994,  -2.82280328, ..., -15.38270906,\n",
       "          -4.80503584,  -1.18983088],\n",
       "        [ -6.52239994,  -7.07444171,  -6.27480997, ..., -15.9474721 ,\n",
       "         -12.78666692, -10.16836738],\n",
       "        [ -6.52239994,  -3.68116484, -14.7568928 , ...,  -9.51994067,\n",
       "          -4.35007088, -12.77521643]],\n",
       "\n",
       "       [[ -6.52239994,  -6.52239994,  -6.52239994, ...,  -6.52239994,\n",
       "          -6.52239994,  -6.52239994],\n",
       "        [ -6.52239994, -15.91476558, -11.36470265, ...,  -6.52239994,\n",
       "          -2.66184919, -12.56332122],\n",
       "        [ -6.52239994,  -8.46172694,  -9.91481118, ...,  -6.42671733,\n",
       "          -8.35044881, -13.5793542 ],\n",
       "        ...,\n",
       "        [ -6.52239994,  -9.59048689, -10.56715643, ...,  -3.67832957,\n",
       "         -11.48806019, -12.90540515],\n",
       "        [ -6.52239994,  -4.91289804,  -4.39916344, ...,  -4.08346925,\n",
       "          -1.21535942, -12.67216618],\n",
       "        [ -6.52239994,  -9.02024485, -15.78398514, ...,  -3.77452821,\n",
       "          -7.54847377,  -2.15991106]],\n",
       "\n",
       "       [[ -6.52239994,  -6.52239994,  -6.52239994, ...,  -6.52239994,\n",
       "          -6.52239994,  -6.52239994],\n",
       "        [ -6.52239994,  -7.64758945, -10.44735541, ..., -14.05675648,\n",
       "          -8.97951935, -11.03949184],\n",
       "        [ -6.52239994,  -5.89784797,  -5.36613732, ..., -13.33653636,\n",
       "         -14.08627723, -12.20247397],\n",
       "        ...,\n",
       "        [ -6.52239994,  -7.43719289,  -5.02635724, ...,  -8.5379825 ,\n",
       "          -1.86697066, -10.92341824],\n",
       "        [ -6.52239994,  -7.62061029, -15.46512733, ...,  -2.86913954,\n",
       "         -15.21970243,  -3.59070888],\n",
       "        [ -6.52239994,  -6.52239994, -12.78189968, ..., -10.18963624,\n",
       "          -3.31752085, -12.54734279]]])"
      ]
     },
     "execution_count": 84,
     "metadata": {},
     "output_type": "execute_result"
    }
   ],
   "source": [
    "R"
   ]
  },
  {
   "cell_type": "code",
   "execution_count": 85,
   "metadata": {
    "scrolled": true
   },
   "outputs": [
    {
     "name": "stdout",
     "output_type": "stream",
     "text": [
      "State 11 : q_sa -0.13654979736443382 q_best -0.1371211415354236\n",
      "State 13 : q_sa -0.130092133484818 q_best -0.1371485671349421\n",
      "State 18 : q_sa -0.1172059208006866 q_best -0.13721715513473784\n",
      "State 0 : q_sa -0.13725584796561377 q_best -0.13725832439793012\n",
      "State 1 : q_sa -0.13725584796561377 q_best -0.13725835319049587\n",
      "State 2 : q_sa -0.13725584796561377 q_best -0.13725838061623688\n",
      "State 3 : q_sa -0.13725584796561377 q_best -0.1372584066748795\n",
      "State 4 : q_sa -0.13725584796561377 q_best -0.13725843136615007\n",
      "State 5 : q_sa -0.13725584796561377 q_best -0.1372584546897748\n",
      "State 6 : q_sa -0.13725584796561377 q_best -0.13725847664547994\n",
      "State 7 : q_sa -0.13725584796561377 q_best -0.1372584972329917\n",
      "State 8 : q_sa -0.13725584796561377 q_best -0.13725851645203618\n",
      "State 9 : q_sa -0.13725584796561377 q_best -0.1372585343023395\n",
      "State 10 : q_sa -0.13725584796561377 q_best -0.1372585507836277\n",
      "State 11 : q_sa -0.1365473209321174 q_best -0.13655003886213052\n",
      "State 12 : q_sa -0.13725584796561377 q_best -0.1372585087853595\n",
      "State 13 : q_sa -0.1300896570525016 q_best -0.13009233023776096\n",
      "State 14 : q_sa -0.13725584796561377 q_best -0.13725781552718336\n",
      "State 15 : q_sa -0.13725584796561377 q_best -0.1372578250805369\n",
      "State 16 : q_sa -0.13725584796561377 q_best -0.13725783326322297\n",
      "State 17 : q_sa -0.13725584796561377 q_best -0.13725784007496733\n",
      "State 18 : q_sa -0.11720344436837023 q_best -0.11720544191825218\n",
      "State 0 : q_sa -0.13725584330374965 q_best -0.13725584796561377\n",
      "State 1 : q_sa -0.13725584330374965 q_best -0.13725584771797053\n",
      "State 2 : q_sa -0.13725584330374965 q_best -0.13725584746742328\n",
      "State 3 : q_sa -0.13725584330374965 q_best -0.1372558472141084\n",
      "State 4 : q_sa -0.13725584330374965 q_best -0.13725584695816231\n",
      "State 5 : q_sa -0.13725584330374965 q_best -0.13725584669972152\n",
      "State 6 : q_sa -0.13725584330374965 q_best -0.13725584643892252\n",
      "State 7 : q_sa -0.13725584330374965 q_best -0.13725584617590186\n",
      "State 8 : q_sa -0.13725584330374965 q_best -0.13725584591079615\n",
      "State 9 : q_sa -0.13725584330374965 q_best -0.13725584564374205\n",
      "State 10 : q_sa -0.13725584330374965 q_best -0.13725584537487617\n",
      "State 11 : q_sa -0.13654731627025324 q_best -0.13654731807083895\n",
      "State 12 : q_sa -0.13725584330374965 q_best -0.1372558448322562\n",
      "State 13 : q_sa -0.13008965239063747 q_best -0.1300896536527487\n",
      "State 14 : q_sa -0.13725584330374965 q_best -0.1372558442982024\n",
      "State 15 : q_sa -0.13725584330374965 q_best -0.1372558441010795\n",
      "State 16 : q_sa -0.13725584330374965 q_best -0.13725584390298157\n",
      "State 17 : q_sa -0.13725584330374965 q_best -0.13725584370404553\n",
      "State 18 : q_sa -0.11720343970650607 q_best -0.11720343990716485\n",
      "State 19 : q_sa -0.13725584330374965 q_best -0.13725584330420734\n",
      "State 20 : q_sa -0.13725584330374965 q_best -0.13725584330410334\n",
      "State 0 : q_sa -0.13725584329926227 q_best -0.13725584330374965\n",
      "State 1 : q_sa -0.13725584329926227 q_best -0.13725584330328347\n",
      "State 2 : q_sa -0.13725584329926227 q_best -0.137255843302842\n",
      "State 3 : q_sa -0.13725584329926227 q_best -0.13725584330242555\n",
      "State 4 : q_sa -0.13725584329926227 q_best -0.13725584330203436\n",
      "State 5 : q_sa -0.13725584329926227 q_best -0.13725584330166876\n",
      "State 6 : q_sa -0.13725584329926227 q_best -0.13725584330132895\n",
      "State 7 : q_sa -0.13725584329926227 q_best -0.1372558433010152\n",
      "State 8 : q_sa -0.13725584329926227 q_best -0.1372558433007277\n",
      "State 9 : q_sa -0.13725584329926227 q_best -0.1372558433004667\n",
      "State 10 : q_sa -0.13725584329926227 q_best -0.13725584330023236\n",
      "State 11 : q_sa -0.1365473162657659 q_best -0.1365473162665285\n",
      "State 12 : q_sa -0.13725584329926227 q_best -0.13725584329984444\n",
      "State 13 : q_sa -0.13008965238615008 q_best -0.13008965238657905\n",
      "State 14 : q_sa -0.13725584329926227 q_best -0.13725584329956458\n",
      "State 15 : q_sa -0.13725584329926227 q_best -0.13725584329946472\n",
      "State 16 : q_sa -0.13725584329926227 q_best -0.13725584329938456\n",
      "State 17 : q_sa -0.13725584329926227 q_best -0.13725584329932422\n",
      "State 18 : q_sa -0.11720343970201869 q_best -0.11720343970204018\n",
      "State 19 : q_sa -0.13725584329926227 q_best -0.1372558432992632\n",
      "State 20 : q_sa -0.13725584329926227 q_best -0.13725584329926274\n",
      "State 0 : q_sa -0.1372558432992592 q_best -0.13725584329926227\n",
      "State 1 : q_sa -0.1372558432992592 q_best -0.1372558432992618\n",
      "State 2 : q_sa -0.1372558432992592 q_best -0.1372558432992614\n",
      "State 3 : q_sa -0.1372558432992592 q_best -0.13725584329926105\n",
      "State 4 : q_sa -0.1372558432992592 q_best -0.13725584329926074\n",
      "State 5 : q_sa -0.1372558432992592 q_best -0.13725584329926047\n",
      "State 6 : q_sa -0.1372558432992592 q_best -0.13725584329926022\n",
      "State 7 : q_sa -0.1372558432992592 q_best -0.13725584329926002\n",
      "State 8 : q_sa -0.1372558432992592 q_best -0.13725584329925986\n",
      "State 9 : q_sa -0.1372558432992592 q_best -0.1372558432992597\n",
      "State 10 : q_sa -0.1372558432992592 q_best -0.13725584329925958\n",
      "State 11 : q_sa -0.13654731626576286 q_best -0.1365473162657631\n",
      "State 12 : q_sa -0.1372558432992592 q_best -0.1372558432992594\n",
      "State 13 : q_sa -0.13008965238614703 q_best -0.13008965238614717\n",
      "State 14 : q_sa -0.1372558432992592 q_best -0.1372558432992593\n",
      "State 15 : q_sa -0.1372558432992592 q_best -0.13725584329925924\n",
      "State 16 : q_sa -0.1372558432992592 q_best -0.13725584329925922\n",
      "State 17 : q_sa -0.1372558432992592 q_best -0.13725584329925922\n"
     ]
    }
   ],
   "source": [
    "# Policy Iteration\n",
    "## Initialise\n",
    "policy = [0 for s in range(N_STATES)]\n",
    "V = np.zeros(N_STATES)\n",
    "\n",
    "## Iterate\n",
    "is_value_changed = True\n",
    "iterations = 0\n",
    "while is_value_changed:\n",
    "    is_value_changed = False\n",
    "    iterations += 1\n",
    "    for s in range(N_STATES):\n",
    "        V[s] = sum([P[s,policy[s],s1] * (R[s,policy[s],s1] + gamma * V[s1]) for s1 in range(N_STATES)])\n",
    "\n",
    "## Evaluate\n",
    "    for s in range(N_STATES):\n",
    "        q_best = V[s]\n",
    "        for a in range(N_ACTIONS):\n",
    "            q_sa = sum([P[s, a, s1] * (R[s, a, s1] + gamma * V[s1]) for s1 in range(N_STATES)])\n",
    "            if q_sa > q_best:\n",
    "                print(\"State\", s, \": q_sa\", q_sa, \"q_best\", q_best)\n",
    "                policy[s] = a\n",
    "                q_best = q_sa\n",
    "                is_value_changed = True"
   ]
  },
  {
   "cell_type": "code",
   "execution_count": 86,
   "metadata": {},
   "outputs": [
    {
     "name": "stdout",
     "output_type": "stream",
     "text": [
      "[0, 0, 0, 0, 0, 0, 0, 0, 0, 0, 0, 3, 0, 2, 0, 0, 0, 0, 6, 0, 0]\n"
     ]
    }
   ],
   "source": [
    "print(policy)"
   ]
  },
  {
   "cell_type": "code",
   "execution_count": null,
   "metadata": {},
   "outputs": [],
   "source": []
  }
 ],
 "metadata": {
  "kernelspec": {
   "display_name": "Python 3",
   "language": "python",
   "name": "python3"
  },
  "language_info": {
   "codemirror_mode": {
    "name": "ipython",
    "version": 3
   },
   "file_extension": ".py",
   "mimetype": "text/x-python",
   "name": "python",
   "nbconvert_exporter": "python",
   "pygments_lexer": "ipython3",
   "version": "3.7.3"
  }
 },
 "nbformat": 4,
 "nbformat_minor": 2
}
